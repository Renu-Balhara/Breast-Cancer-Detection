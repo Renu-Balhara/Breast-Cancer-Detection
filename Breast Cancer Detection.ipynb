{
  "nbformat": 4,
  "nbformat_minor": 5,
  "metadata": {
    "kernelspec": {
      "display_name": "Python 3",
      "language": "python",
      "name": "python3"
    },
    "language_info": {
      "codemirror_mode": {
        "name": "ipython",
        "version": 3
      },
      "file_extension": ".py",
      "mimetype": "text/x-python",
      "name": "python",
      "nbconvert_exporter": "python",
      "pygments_lexer": "ipython3",
      "version": "3.8.8"
    },
    "colab": {
      "name": "Breast Cancer Detection.ipynb",
      "provenance": []
    }
  },
  "cells": [
    {
      "cell_type": "code",
      "metadata": {
        "id": "9c125e39"
      },
      "source": [
        "from sklearn.datasets import load_breast_cancer\n",
        "from sklearn.preprocessing import StandardScaler\n",
        "\n",
        "import pandas as pd\n",
        "import numpy as np\n",
        "\n",
        "from keras.models import Sequential\n",
        "from keras.layers import Dense"
      ],
      "id": "9c125e39",
      "execution_count": 2,
      "outputs": []
    },
    {
      "cell_type": "code",
      "metadata": {
        "id": "9d98820c"
      },
      "source": [
        "data = load_breast_cancer()"
      ],
      "id": "9d98820c",
      "execution_count": 3,
      "outputs": []
    },
    {
      "cell_type": "code",
      "metadata": {
        "colab": {
          "base_uri": "https://localhost:8080/"
        },
        "id": "6a4214ab",
        "outputId": "524207ad-5054-4611-c04a-6edce2f9ab97"
      },
      "source": [
        "data.keys()"
      ],
      "id": "6a4214ab",
      "execution_count": 4,
      "outputs": [
        {
          "output_type": "execute_result",
          "data": {
            "text/plain": [
              "dict_keys(['data', 'target', 'target_names', 'DESCR', 'feature_names', 'filename'])"
            ]
          },
          "metadata": {},
          "execution_count": 4
        }
      ]
    },
    {
      "cell_type": "code",
      "metadata": {
        "colab": {
          "base_uri": "https://localhost:8080/"
        },
        "id": "d9d71387",
        "outputId": "72f89b87-13f3-41c5-853f-93df47fd562d"
      },
      "source": [
        "print(data['DESCR'])"
      ],
      "id": "d9d71387",
      "execution_count": 5,
      "outputs": [
        {
          "output_type": "stream",
          "name": "stdout",
          "text": [
            ".. _breast_cancer_dataset:\n",
            "\n",
            "Breast cancer wisconsin (diagnostic) dataset\n",
            "--------------------------------------------\n",
            "\n",
            "**Data Set Characteristics:**\n",
            "\n",
            "    :Number of Instances: 569\n",
            "\n",
            "    :Number of Attributes: 30 numeric, predictive attributes and the class\n",
            "\n",
            "    :Attribute Information:\n",
            "        - radius (mean of distances from center to points on the perimeter)\n",
            "        - texture (standard deviation of gray-scale values)\n",
            "        - perimeter\n",
            "        - area\n",
            "        - smoothness (local variation in radius lengths)\n",
            "        - compactness (perimeter^2 / area - 1.0)\n",
            "        - concavity (severity of concave portions of the contour)\n",
            "        - concave points (number of concave portions of the contour)\n",
            "        - symmetry \n",
            "        - fractal dimension (\"coastline approximation\" - 1)\n",
            "\n",
            "        The mean, standard error, and \"worst\" or largest (mean of the three\n",
            "        largest values) of these features were computed for each image,\n",
            "        resulting in 30 features.  For instance, field 3 is Mean Radius, field\n",
            "        13 is Radius SE, field 23 is Worst Radius.\n",
            "\n",
            "        - class:\n",
            "                - WDBC-Malignant\n",
            "                - WDBC-Benign\n",
            "\n",
            "    :Summary Statistics:\n",
            "\n",
            "    ===================================== ====== ======\n",
            "                                           Min    Max\n",
            "    ===================================== ====== ======\n",
            "    radius (mean):                        6.981  28.11\n",
            "    texture (mean):                       9.71   39.28\n",
            "    perimeter (mean):                     43.79  188.5\n",
            "    area (mean):                          143.5  2501.0\n",
            "    smoothness (mean):                    0.053  0.163\n",
            "    compactness (mean):                   0.019  0.345\n",
            "    concavity (mean):                     0.0    0.427\n",
            "    concave points (mean):                0.0    0.201\n",
            "    symmetry (mean):                      0.106  0.304\n",
            "    fractal dimension (mean):             0.05   0.097\n",
            "    radius (standard error):              0.112  2.873\n",
            "    texture (standard error):             0.36   4.885\n",
            "    perimeter (standard error):           0.757  21.98\n",
            "    area (standard error):                6.802  542.2\n",
            "    smoothness (standard error):          0.002  0.031\n",
            "    compactness (standard error):         0.002  0.135\n",
            "    concavity (standard error):           0.0    0.396\n",
            "    concave points (standard error):      0.0    0.053\n",
            "    symmetry (standard error):            0.008  0.079\n",
            "    fractal dimension (standard error):   0.001  0.03\n",
            "    radius (worst):                       7.93   36.04\n",
            "    texture (worst):                      12.02  49.54\n",
            "    perimeter (worst):                    50.41  251.2\n",
            "    area (worst):                         185.2  4254.0\n",
            "    smoothness (worst):                   0.071  0.223\n",
            "    compactness (worst):                  0.027  1.058\n",
            "    concavity (worst):                    0.0    1.252\n",
            "    concave points (worst):               0.0    0.291\n",
            "    symmetry (worst):                     0.156  0.664\n",
            "    fractal dimension (worst):            0.055  0.208\n",
            "    ===================================== ====== ======\n",
            "\n",
            "    :Missing Attribute Values: None\n",
            "\n",
            "    :Class Distribution: 212 - Malignant, 357 - Benign\n",
            "\n",
            "    :Creator:  Dr. William H. Wolberg, W. Nick Street, Olvi L. Mangasarian\n",
            "\n",
            "    :Donor: Nick Street\n",
            "\n",
            "    :Date: November, 1995\n",
            "\n",
            "This is a copy of UCI ML Breast Cancer Wisconsin (Diagnostic) datasets.\n",
            "https://goo.gl/U2Uwz2\n",
            "\n",
            "Features are computed from a digitized image of a fine needle\n",
            "aspirate (FNA) of a breast mass.  They describe\n",
            "characteristics of the cell nuclei present in the image.\n",
            "\n",
            "Separating plane described above was obtained using\n",
            "Multisurface Method-Tree (MSM-T) [K. P. Bennett, \"Decision Tree\n",
            "Construction Via Linear Programming.\" Proceedings of the 4th\n",
            "Midwest Artificial Intelligence and Cognitive Science Society,\n",
            "pp. 97-101, 1992], a classification method which uses linear\n",
            "programming to construct a decision tree.  Relevant features\n",
            "were selected using an exhaustive search in the space of 1-4\n",
            "features and 1-3 separating planes.\n",
            "\n",
            "The actual linear program used to obtain the separating plane\n",
            "in the 3-dimensional space is that described in:\n",
            "[K. P. Bennett and O. L. Mangasarian: \"Robust Linear\n",
            "Programming Discrimination of Two Linearly Inseparable Sets\",\n",
            "Optimization Methods and Software 1, 1992, 23-34].\n",
            "\n",
            "This database is also available through the UW CS ftp server:\n",
            "\n",
            "ftp ftp.cs.wisc.edu\n",
            "cd math-prog/cpo-dataset/machine-learn/WDBC/\n",
            "\n",
            ".. topic:: References\n",
            "\n",
            "   - W.N. Street, W.H. Wolberg and O.L. Mangasarian. Nuclear feature extraction \n",
            "     for breast tumor diagnosis. IS&T/SPIE 1993 International Symposium on \n",
            "     Electronic Imaging: Science and Technology, volume 1905, pages 861-870,\n",
            "     San Jose, CA, 1993.\n",
            "   - O.L. Mangasarian, W.N. Street and W.H. Wolberg. Breast cancer diagnosis and \n",
            "     prognosis via linear programming. Operations Research, 43(4), pages 570-577, \n",
            "     July-August 1995.\n",
            "   - W.H. Wolberg, W.N. Street, and O.L. Mangasarian. Machine learning techniques\n",
            "     to diagnose breast cancer from fine-needle aspirates. Cancer Letters 77 (1994) \n",
            "     163-171.\n"
          ]
        }
      ]
    },
    {
      "cell_type": "code",
      "metadata": {
        "colab": {
          "base_uri": "https://localhost:8080/"
        },
        "id": "327aed45",
        "outputId": "c6f75bdd-f02a-42b0-a5e4-d9e915570eca"
      },
      "source": [
        "print(data['data'][0])"
      ],
      "id": "327aed45",
      "execution_count": 6,
      "outputs": [
        {
          "output_type": "stream",
          "name": "stdout",
          "text": [
            "[1.799e+01 1.038e+01 1.228e+02 1.001e+03 1.184e-01 2.776e-01 3.001e-01\n",
            " 1.471e-01 2.419e-01 7.871e-02 1.095e+00 9.053e-01 8.589e+00 1.534e+02\n",
            " 6.399e-03 4.904e-02 5.373e-02 1.587e-02 3.003e-02 6.193e-03 2.538e+01\n",
            " 1.733e+01 1.846e+02 2.019e+03 1.622e-01 6.656e-01 7.119e-01 2.654e-01\n",
            " 4.601e-01 1.189e-01]\n"
          ]
        }
      ]
    },
    {
      "cell_type": "code",
      "metadata": {
        "colab": {
          "base_uri": "https://localhost:8080/"
        },
        "id": "48112357",
        "outputId": "fe976e73-7d2a-40dd-f965-aa49d95609ac"
      },
      "source": [
        "j = 0\n",
        "for i in data['feature_names']:\n",
        "    print(i, ':', data['data'][0][j])\n",
        "    j += 1"
      ],
      "id": "48112357",
      "execution_count": 7,
      "outputs": [
        {
          "output_type": "stream",
          "name": "stdout",
          "text": [
            "mean radius : 17.99\n",
            "mean texture : 10.38\n",
            "mean perimeter : 122.8\n",
            "mean area : 1001.0\n",
            "mean smoothness : 0.1184\n",
            "mean compactness : 0.2776\n",
            "mean concavity : 0.3001\n",
            "mean concave points : 0.1471\n",
            "mean symmetry : 0.2419\n",
            "mean fractal dimension : 0.07871\n",
            "radius error : 1.095\n",
            "texture error : 0.9053\n",
            "perimeter error : 8.589\n",
            "area error : 153.4\n",
            "smoothness error : 0.006399\n",
            "compactness error : 0.04904\n",
            "concavity error : 0.05373\n",
            "concave points error : 0.01587\n",
            "symmetry error : 0.03003\n",
            "fractal dimension error : 0.006193\n",
            "worst radius : 25.38\n",
            "worst texture : 17.33\n",
            "worst perimeter : 184.6\n",
            "worst area : 2019.0\n",
            "worst smoothness : 0.1622\n",
            "worst compactness : 0.6656\n",
            "worst concavity : 0.7119\n",
            "worst concave points : 0.2654\n",
            "worst symmetry : 0.4601\n",
            "worst fractal dimension : 0.1189\n"
          ]
        }
      ]
    },
    {
      "cell_type": "code",
      "metadata": {
        "colab": {
          "base_uri": "https://localhost:8080/"
        },
        "id": "21ffd4da",
        "outputId": "5a012019-ab2e-460e-bf99-56db3dd1c7d5"
      },
      "source": [
        "data['data'].shape"
      ],
      "id": "21ffd4da",
      "execution_count": 8,
      "outputs": [
        {
          "output_type": "execute_result",
          "data": {
            "text/plain": [
              "(569, 30)"
            ]
          },
          "metadata": {},
          "execution_count": 8
        }
      ]
    },
    {
      "cell_type": "code",
      "metadata": {
        "colab": {
          "base_uri": "https://localhost:8080/"
        },
        "id": "8cc18829",
        "outputId": "81e9f245-0245-4cc5-ef22-5e6ff1c0be80"
      },
      "source": [
        "data['target'].shape"
      ],
      "id": "8cc18829",
      "execution_count": 9,
      "outputs": [
        {
          "output_type": "execute_result",
          "data": {
            "text/plain": [
              "(569,)"
            ]
          },
          "metadata": {},
          "execution_count": 9
        }
      ]
    },
    {
      "cell_type": "code",
      "metadata": {
        "colab": {
          "base_uri": "https://localhost:8080/"
        },
        "id": "ef9f3c65",
        "outputId": "bccd892b-630d-4e0e-b93d-9fee9c30296c"
      },
      "source": [
        "data['target_names']"
      ],
      "id": "ef9f3c65",
      "execution_count": 10,
      "outputs": [
        {
          "output_type": "execute_result",
          "data": {
            "text/plain": [
              "array(['malignant', 'benign'], dtype='<U9')"
            ]
          },
          "metadata": {},
          "execution_count": 10
        }
      ]
    },
    {
      "cell_type": "code",
      "metadata": {
        "colab": {
          "base_uri": "https://localhost:8080/"
        },
        "id": "fd9bf3e4",
        "outputId": "8c593c25-ea0e-45e7-8e5f-c208e8142eca"
      },
      "source": [
        "print('0 :', data['target_names'][0])\n",
        "print('1 :', data['target_names'][1])"
      ],
      "id": "fd9bf3e4",
      "execution_count": 11,
      "outputs": [
        {
          "output_type": "stream",
          "name": "stdout",
          "text": [
            "0 : malignant\n",
            "1 : benign\n"
          ]
        }
      ]
    },
    {
      "cell_type": "code",
      "metadata": {
        "colab": {
          "base_uri": "https://localhost:8080/",
          "height": 35
        },
        "id": "ba8d322b",
        "outputId": "95df97ad-3a34-417e-9626-156d190cf1a0"
      },
      "source": [
        "data['filename']"
      ],
      "id": "ba8d322b",
      "execution_count": 12,
      "outputs": [
        {
          "output_type": "execute_result",
          "data": {
            "application/vnd.google.colaboratory.intrinsic+json": {
              "type": "string"
            },
            "text/plain": [
              "'/usr/local/lib/python3.7/dist-packages/sklearn/datasets/data/breast_cancer.csv'"
            ]
          },
          "metadata": {},
          "execution_count": 12
        }
      ]
    },
    {
      "cell_type": "code",
      "metadata": {
        "id": "6f837517"
      },
      "source": [
        "feature = data['data']\n",
        "label = data['target']"
      ],
      "id": "6f837517",
      "execution_count": 13,
      "outputs": []
    },
    {
      "cell_type": "code",
      "metadata": {
        "colab": {
          "base_uri": "https://localhost:8080/"
        },
        "id": "398c1940",
        "outputId": "8788e9f2-f528-4349-b5f3-032c2758320c"
      },
      "source": [
        "feature.shape"
      ],
      "id": "398c1940",
      "execution_count": 14,
      "outputs": [
        {
          "output_type": "execute_result",
          "data": {
            "text/plain": [
              "(569, 30)"
            ]
          },
          "metadata": {},
          "execution_count": 14
        }
      ]
    },
    {
      "cell_type": "code",
      "metadata": {
        "colab": {
          "base_uri": "https://localhost:8080/"
        },
        "id": "e283f040",
        "outputId": "656ec062-4326-465b-ef7c-efafe8eadb21"
      },
      "source": [
        "label.shape"
      ],
      "id": "e283f040",
      "execution_count": 15,
      "outputs": [
        {
          "output_type": "execute_result",
          "data": {
            "text/plain": [
              "(569,)"
            ]
          },
          "metadata": {},
          "execution_count": 15
        }
      ]
    },
    {
      "cell_type": "code",
      "metadata": {
        "id": "41f78739"
      },
      "source": [
        "scale = StandardScaler()\n",
        "feature = scale.fit_transform(feature)"
      ],
      "id": "41f78739",
      "execution_count": 16,
      "outputs": []
    },
    {
      "cell_type": "code",
      "metadata": {
        "colab": {
          "base_uri": "https://localhost:8080/"
        },
        "id": "143297f6",
        "outputId": "5d8d7942-8971-4821-c71d-8bfaec7f0044"
      },
      "source": [
        "j = 0\n",
        "for i in data['feature_names']:\n",
        "    print(i, ':', feature[0][j])\n",
        "    j += 1"
      ],
      "id": "143297f6",
      "execution_count": 17,
      "outputs": [
        {
          "output_type": "stream",
          "name": "stdout",
          "text": [
            "mean radius : 1.0970639814699807\n",
            "mean texture : -2.0733350146975935\n",
            "mean perimeter : 1.2699336881399383\n",
            "mean area : 0.9843749048031144\n",
            "mean smoothness : 1.568466329243428\n",
            "mean compactness : 3.2835146709868264\n",
            "mean concavity : 2.652873983743168\n",
            "mean concave points : 2.532475216403245\n",
            "mean symmetry : 2.2175150059646405\n",
            "mean fractal dimension : 2.255746885296269\n",
            "radius error : 2.4897339267376193\n",
            "texture error : -0.5652650590684639\n",
            "perimeter error : 2.833030865855184\n",
            "area error : 2.4875775569611043\n",
            "smoothness error : -0.21400164666895383\n",
            "compactness error : 1.3168615683959484\n",
            "concavity error : 0.72402615808036\n",
            "concave points error : 0.6608199414286064\n",
            "symmetry error : 1.1487566671861758\n",
            "fractal dimension error : 0.9070830809973359\n",
            "worst radius : 1.8866896251792757\n",
            "worst texture : -1.3592934737640827\n",
            "worst perimeter : 2.3036006236225606\n",
            "worst area : 2.0012374893299207\n",
            "worst smoothness : 1.3076862710715387\n",
            "worst compactness : 2.616665023512603\n",
            "worst concavity : 2.1095263465722556\n",
            "worst concave points : 2.296076127561788\n",
            "worst symmetry : 2.750622244124955\n",
            "worst fractal dimension : 1.9370146123781782\n"
          ]
        }
      ]
    },
    {
      "cell_type": "code",
      "metadata": {
        "colab": {
          "base_uri": "https://localhost:8080/"
        },
        "id": "2adc096e",
        "outputId": "2195d56e-99a9-48ef-c202-e14a6395e9b7"
      },
      "source": [
        "print(feature[0])\n",
        "print(data['target_names'][label[0]])"
      ],
      "id": "2adc096e",
      "execution_count": 18,
      "outputs": [
        {
          "output_type": "stream",
          "name": "stdout",
          "text": [
            "[ 1.09706398 -2.07333501  1.26993369  0.9843749   1.56846633  3.28351467\n",
            "  2.65287398  2.53247522  2.21751501  2.25574689  2.48973393 -0.56526506\n",
            "  2.83303087  2.48757756 -0.21400165  1.31686157  0.72402616  0.66081994\n",
            "  1.14875667  0.90708308  1.88668963 -1.35929347  2.30360062  2.00123749\n",
            "  1.30768627  2.61666502  2.10952635  2.29607613  2.75062224  1.93701461]\n",
            "malignant\n"
          ]
        }
      ]
    },
    {
      "cell_type": "code",
      "metadata": {
        "id": "baf1c52f"
      },
      "source": [
        "df_frt = pd.DataFrame(feature , columns = data['feature_names'])\n",
        "df_lbl = pd.DataFrame(label , columns = ['label'])\n",
        "\n",
        "df = pd.concat([df_frt, df_lbl], axis=1)  # add last column as label (0/1)\n",
        "\n",
        "df = df.sample(frac = 1)  # shuffle the data frame\n",
        "\n",
        "feature = df.values[ : , : 30]\n",
        "label = df.values[ : ,30: ]"
      ],
      "id": "baf1c52f",
      "execution_count": 32,
      "outputs": []
    },
    {
      "cell_type": "code",
      "metadata": {
        "colab": {
          "base_uri": "https://localhost:8080/",
          "height": 470
        },
        "id": "e00334f3",
        "outputId": "3cd9da1e-2524-43e7-b490-0cb667c6dbc2"
      },
      "source": [
        "df"
      ],
      "id": "e00334f3",
      "execution_count": 33,
      "outputs": [
        {
          "output_type": "execute_result",
          "data": {
            "text/html": [
              "<div>\n",
              "<style scoped>\n",
              "    .dataframe tbody tr th:only-of-type {\n",
              "        vertical-align: middle;\n",
              "    }\n",
              "\n",
              "    .dataframe tbody tr th {\n",
              "        vertical-align: top;\n",
              "    }\n",
              "\n",
              "    .dataframe thead th {\n",
              "        text-align: right;\n",
              "    }\n",
              "</style>\n",
              "<table border=\"1\" class=\"dataframe\">\n",
              "  <thead>\n",
              "    <tr style=\"text-align: right;\">\n",
              "      <th></th>\n",
              "      <th>mean radius</th>\n",
              "      <th>mean texture</th>\n",
              "      <th>mean perimeter</th>\n",
              "      <th>mean area</th>\n",
              "      <th>mean smoothness</th>\n",
              "      <th>mean compactness</th>\n",
              "      <th>mean concavity</th>\n",
              "      <th>mean concave points</th>\n",
              "      <th>mean symmetry</th>\n",
              "      <th>mean fractal dimension</th>\n",
              "      <th>radius error</th>\n",
              "      <th>texture error</th>\n",
              "      <th>perimeter error</th>\n",
              "      <th>area error</th>\n",
              "      <th>smoothness error</th>\n",
              "      <th>compactness error</th>\n",
              "      <th>concavity error</th>\n",
              "      <th>concave points error</th>\n",
              "      <th>symmetry error</th>\n",
              "      <th>fractal dimension error</th>\n",
              "      <th>worst radius</th>\n",
              "      <th>worst texture</th>\n",
              "      <th>worst perimeter</th>\n",
              "      <th>worst area</th>\n",
              "      <th>worst smoothness</th>\n",
              "      <th>worst compactness</th>\n",
              "      <th>worst concavity</th>\n",
              "      <th>worst concave points</th>\n",
              "      <th>worst symmetry</th>\n",
              "      <th>worst fractal dimension</th>\n",
              "      <th>label</th>\n",
              "    </tr>\n",
              "  </thead>\n",
              "  <tbody>\n",
              "    <tr>\n",
              "      <th>156</th>\n",
              "      <td>-0.320167</td>\n",
              "      <td>0.346815</td>\n",
              "      <td>-0.348429</td>\n",
              "      <td>-0.385345</td>\n",
              "      <td>1.219756</td>\n",
              "      <td>-0.539188</td>\n",
              "      <td>-0.721149</td>\n",
              "      <td>-0.579569</td>\n",
              "      <td>2.659279</td>\n",
              "      <td>-0.273259</td>\n",
              "      <td>0.054239</td>\n",
              "      <td>0.190772</td>\n",
              "      <td>0.003436</td>\n",
              "      <td>-0.122265</td>\n",
              "      <td>-0.007993</td>\n",
              "      <td>-0.785703</td>\n",
              "      <td>-0.411270</td>\n",
              "      <td>-0.043170</td>\n",
              "      <td>1.085796</td>\n",
              "      <td>-0.855568</td>\n",
              "      <td>-0.436776</td>\n",
              "      <td>-0.255213</td>\n",
              "      <td>-0.489715</td>\n",
              "      <td>-0.463884</td>\n",
              "      <td>-0.116980</td>\n",
              "      <td>-0.914547</td>\n",
              "      <td>-0.916656</td>\n",
              "      <td>-0.786396</td>\n",
              "      <td>0.477640</td>\n",
              "      <td>-1.085918</td>\n",
              "      <td>1.0</td>\n",
              "    </tr>\n",
              "    <tr>\n",
              "      <th>260</th>\n",
              "      <td>-0.215082</td>\n",
              "      <td>-0.674768</td>\n",
              "      <td>-0.241747</td>\n",
              "      <td>-0.288361</td>\n",
              "      <td>-1.794101</td>\n",
              "      <td>-0.589220</td>\n",
              "      <td>-0.098925</td>\n",
              "      <td>-0.539588</td>\n",
              "      <td>-1.422476</td>\n",
              "      <td>-0.647506</td>\n",
              "      <td>-0.870802</td>\n",
              "      <td>-0.139439</td>\n",
              "      <td>-0.813365</td>\n",
              "      <td>-0.564940</td>\n",
              "      <td>-0.374008</td>\n",
              "      <td>0.403626</td>\n",
              "      <td>0.586093</td>\n",
              "      <td>-0.229711</td>\n",
              "      <td>-1.024602</td>\n",
              "      <td>0.106325</td>\n",
              "      <td>-0.416068</td>\n",
              "      <td>-0.476680</td>\n",
              "      <td>-0.454866</td>\n",
              "      <td>-0.436812</td>\n",
              "      <td>-1.309316</td>\n",
              "      <td>-0.007411</td>\n",
              "      <td>0.281190</td>\n",
              "      <td>-0.378019</td>\n",
              "      <td>-1.379572</td>\n",
              "      <td>-0.424808</td>\n",
              "      <td>1.0</td>\n",
              "    </tr>\n",
              "    <tr>\n",
              "      <th>537</th>\n",
              "      <td>-0.493416</td>\n",
              "      <td>-0.421117</td>\n",
              "      <td>-0.466645</td>\n",
              "      <td>-0.546037</td>\n",
              "      <td>0.557917</td>\n",
              "      <td>0.480591</td>\n",
              "      <td>-0.375134</td>\n",
              "      <td>-0.518953</td>\n",
              "      <td>-0.119089</td>\n",
              "      <td>0.436961</td>\n",
              "      <td>-0.521069</td>\n",
              "      <td>-0.623868</td>\n",
              "      <td>-0.370807</td>\n",
              "      <td>-0.465052</td>\n",
              "      <td>-0.108664</td>\n",
              "      <td>0.646746</td>\n",
              "      <td>0.519779</td>\n",
              "      <td>-0.208624</td>\n",
              "      <td>-0.261808</td>\n",
              "      <td>1.168455</td>\n",
              "      <td>-0.432635</td>\n",
              "      <td>-0.414799</td>\n",
              "      <td>-0.358360</td>\n",
              "      <td>-0.492362</td>\n",
              "      <td>0.452886</td>\n",
              "      <td>0.668169</td>\n",
              "      <td>0.232255</td>\n",
              "      <td>-0.252247</td>\n",
              "      <td>-0.132263</td>\n",
              "      <td>1.543562</td>\n",
              "      <td>1.0</td>\n",
              "    </tr>\n",
              "    <tr>\n",
              "      <th>21</th>\n",
              "      <td>1.693494</td>\n",
              "      <td>1.063551</td>\n",
              "      <td>1.760097</td>\n",
              "      <td>1.684024</td>\n",
              "      <td>0.828346</td>\n",
              "      <td>1.505866</td>\n",
              "      <td>1.751427</td>\n",
              "      <td>2.039810</td>\n",
              "      <td>1.596855</td>\n",
              "      <td>1.685870</td>\n",
              "      <td>2.406722</td>\n",
              "      <td>0.954611</td>\n",
              "      <td>2.444432</td>\n",
              "      <td>1.990339</td>\n",
              "      <td>0.307686</td>\n",
              "      <td>1.220732</td>\n",
              "      <td>1.478680</td>\n",
              "      <td>1.226932</td>\n",
              "      <td>0.825477</td>\n",
              "      <td>0.806846</td>\n",
              "      <td>1.534649</td>\n",
              "      <td>0.611116</td>\n",
              "      <td>1.535126</td>\n",
              "      <td>1.433432</td>\n",
              "      <td>0.102199</td>\n",
              "      <td>0.539669</td>\n",
              "      <td>1.060308</td>\n",
              "      <td>1.183012</td>\n",
              "      <td>0.636183</td>\n",
              "      <td>0.595398</td>\n",
              "      <td>0.0</td>\n",
              "    </tr>\n",
              "    <tr>\n",
              "      <th>189</th>\n",
              "      <td>0.080293</td>\n",
              "      <td>0.102473</td>\n",
              "      <td>0.167272</td>\n",
              "      <td>-0.011061</td>\n",
              "      <td>-0.625564</td>\n",
              "      <td>1.198852</td>\n",
              "      <td>0.595114</td>\n",
              "      <td>0.441099</td>\n",
              "      <td>-0.356400</td>\n",
              "      <td>1.293194</td>\n",
              "      <td>1.717724</td>\n",
              "      <td>1.003598</td>\n",
              "      <td>0.739546</td>\n",
              "      <td>0.809067</td>\n",
              "      <td>0.240350</td>\n",
              "      <td>4.522686</td>\n",
              "      <td>2.244939</td>\n",
              "      <td>2.581382</td>\n",
              "      <td>2.449140</td>\n",
              "      <td>7.211398</td>\n",
              "      <td>-0.103373</td>\n",
              "      <td>-0.577643</td>\n",
              "      <td>-0.165645</td>\n",
              "      <td>-0.199142</td>\n",
              "      <td>-1.426358</td>\n",
              "      <td>-0.044944</td>\n",
              "      <td>-0.240780</td>\n",
              "      <td>-0.190427</td>\n",
              "      <td>-1.017189</td>\n",
              "      <td>0.224112</td>\n",
              "      <td>1.0</td>\n",
              "    </tr>\n",
              "    <tr>\n",
              "      <th>...</th>\n",
              "      <td>...</td>\n",
              "      <td>...</td>\n",
              "      <td>...</td>\n",
              "      <td>...</td>\n",
              "      <td>...</td>\n",
              "      <td>...</td>\n",
              "      <td>...</td>\n",
              "      <td>...</td>\n",
              "      <td>...</td>\n",
              "      <td>...</td>\n",
              "      <td>...</td>\n",
              "      <td>...</td>\n",
              "      <td>...</td>\n",
              "      <td>...</td>\n",
              "      <td>...</td>\n",
              "      <td>...</td>\n",
              "      <td>...</td>\n",
              "      <td>...</td>\n",
              "      <td>...</td>\n",
              "      <td>...</td>\n",
              "      <td>...</td>\n",
              "      <td>...</td>\n",
              "      <td>...</td>\n",
              "      <td>...</td>\n",
              "      <td>...</td>\n",
              "      <td>...</td>\n",
              "      <td>...</td>\n",
              "      <td>...</td>\n",
              "      <td>...</td>\n",
              "      <td>...</td>\n",
              "      <td>...</td>\n",
              "    </tr>\n",
              "    <tr>\n",
              "      <th>66</th>\n",
              "      <td>-0.189520</td>\n",
              "      <td>2.075826</td>\n",
              "      <td>-0.250397</td>\n",
              "      <td>-0.263902</td>\n",
              "      <td>-1.508016</td>\n",
              "      <td>-1.081769</td>\n",
              "      <td>-0.955299</td>\n",
              "      <td>-0.973701</td>\n",
              "      <td>-1.426127</td>\n",
              "      <td>-0.732562</td>\n",
              "      <td>-0.852755</td>\n",
              "      <td>-0.121295</td>\n",
              "      <td>-0.725744</td>\n",
              "      <td>-0.559439</td>\n",
              "      <td>-0.699688</td>\n",
              "      <td>-0.751610</td>\n",
              "      <td>-0.808558</td>\n",
              "      <td>-1.073364</td>\n",
              "      <td>-0.741279</td>\n",
              "      <td>-0.798452</td>\n",
              "      <td>-0.327023</td>\n",
              "      <td>1.620748</td>\n",
              "      <td>-0.302362</td>\n",
              "      <td>-0.351553</td>\n",
              "      <td>-0.945479</td>\n",
              "      <td>-0.690625</td>\n",
              "      <td>-0.925195</td>\n",
              "      <td>-0.864813</td>\n",
              "      <td>-0.334485</td>\n",
              "      <td>-0.739015</td>\n",
              "      <td>1.0</td>\n",
              "    </tr>\n",
              "    <tr>\n",
              "      <th>36</th>\n",
              "      <td>0.949377</td>\n",
              "      <td>1.254371</td>\n",
              "      <td>0.993959</td>\n",
              "      <td>0.937732</td>\n",
              "      <td>0.607733</td>\n",
              "      <td>1.060506</td>\n",
              "      <td>1.595745</td>\n",
              "      <td>1.428493</td>\n",
              "      <td>-0.998966</td>\n",
              "      <td>0.120835</td>\n",
              "      <td>2.464469</td>\n",
              "      <td>0.350434</td>\n",
              "      <td>2.213253</td>\n",
              "      <td>1.803324</td>\n",
              "      <td>-0.289005</td>\n",
              "      <td>0.607064</td>\n",
              "      <td>0.482311</td>\n",
              "      <td>0.631622</td>\n",
              "      <td>-1.100882</td>\n",
              "      <td>0.501219</td>\n",
              "      <td>1.422825</td>\n",
              "      <td>1.083363</td>\n",
              "      <td>1.430876</td>\n",
              "      <td>1.370147</td>\n",
              "      <td>0.229323</td>\n",
              "      <td>0.818934</td>\n",
              "      <td>1.040158</td>\n",
              "      <td>0.875435</td>\n",
              "      <td>-1.198380</td>\n",
              "      <td>0.501745</td>\n",
              "      <td>0.0</td>\n",
              "    </tr>\n",
              "    <tr>\n",
              "      <th>267</th>\n",
              "      <td>0.037691</td>\n",
              "      <td>-0.260550</td>\n",
              "      <td>-0.030853</td>\n",
              "      <td>-0.061970</td>\n",
              "      <td>-2.177683</td>\n",
              "      <td>-0.988149</td>\n",
              "      <td>-0.804137</td>\n",
              "      <td>-0.907410</td>\n",
              "      <td>-0.644825</td>\n",
              "      <td>-0.983478</td>\n",
              "      <td>-0.632233</td>\n",
              "      <td>-0.993995</td>\n",
              "      <td>-0.596541</td>\n",
              "      <td>-0.435130</td>\n",
              "      <td>-1.290712</td>\n",
              "      <td>-0.654362</td>\n",
              "      <td>-0.699736</td>\n",
              "      <td>-1.062982</td>\n",
              "      <td>-1.151735</td>\n",
              "      <td>-0.695190</td>\n",
              "      <td>-0.010186</td>\n",
              "      <td>-0.067942</td>\n",
              "      <td>-0.043523</td>\n",
              "      <td>-0.107027</td>\n",
              "      <td>-1.662195</td>\n",
              "      <td>-0.238966</td>\n",
              "      <td>-0.555018</td>\n",
              "      <td>-0.598500</td>\n",
              "      <td>-0.428317</td>\n",
              "      <td>-0.398208</td>\n",
              "      <td>1.0</td>\n",
              "    </tr>\n",
              "    <tr>\n",
              "      <th>2</th>\n",
              "      <td>-0.439453</td>\n",
              "      <td>-0.207027</td>\n",
              "      <td>-0.500009</td>\n",
              "      <td>-0.471806</td>\n",
              "      <td>-0.884606</td>\n",
              "      <td>-1.178422</td>\n",
              "      <td>-1.091521</td>\n",
              "      <td>-1.186398</td>\n",
              "      <td>-0.418466</td>\n",
              "      <td>-0.602143</td>\n",
              "      <td>-0.481007</td>\n",
              "      <td>0.241574</td>\n",
              "      <td>-0.566839</td>\n",
              "      <td>-0.393546</td>\n",
              "      <td>-0.219335</td>\n",
              "      <td>-0.976398</td>\n",
              "      <td>-0.995829</td>\n",
              "      <td>-1.439146</td>\n",
              "      <td>0.625698</td>\n",
              "      <td>-0.673251</td>\n",
              "      <td>-0.573451</td>\n",
              "      <td>-0.422942</td>\n",
              "      <td>-0.646389</td>\n",
              "      <td>-0.556350</td>\n",
              "      <td>-1.252330</td>\n",
              "      <td>-1.196102</td>\n",
              "      <td>-1.279065</td>\n",
              "      <td>-1.611495</td>\n",
              "      <td>-0.640246</td>\n",
              "      <td>-1.088135</td>\n",
              "      <td>1.0</td>\n",
              "    </tr>\n",
              "    <tr>\n",
              "      <th>381</th>\n",
              "      <td>-0.271884</td>\n",
              "      <td>-0.248914</td>\n",
              "      <td>-0.316713</td>\n",
              "      <td>-0.334435</td>\n",
              "      <td>-1.544310</td>\n",
              "      <td>-0.841464</td>\n",
              "      <td>-0.504827</td>\n",
              "      <td>-0.521532</td>\n",
              "      <td>-1.305645</td>\n",
              "      <td>-1.035930</td>\n",
              "      <td>-0.732208</td>\n",
              "      <td>-0.964965</td>\n",
              "      <td>-0.806929</td>\n",
              "      <td>-0.515876</td>\n",
              "      <td>-0.357341</td>\n",
              "      <td>-0.589531</td>\n",
              "      <td>-0.538925</td>\n",
              "      <td>-0.540667</td>\n",
              "      <td>-1.163843</td>\n",
              "      <td>-0.802991</td>\n",
              "      <td>-0.283535</td>\n",
              "      <td>-0.291038</td>\n",
              "      <td>-0.362232</td>\n",
              "      <td>-0.339247</td>\n",
              "      <td>-0.182734</td>\n",
              "      <td>-0.367466</td>\n",
              "      <td>-0.405815</td>\n",
              "      <td>-0.153883</td>\n",
              "      <td>-1.077047</td>\n",
              "      <td>-0.814381</td>\n",
              "      <td>1.0</td>\n",
              "    </tr>\n",
              "  </tbody>\n",
              "</table>\n",
              "<p>569 rows × 31 columns</p>\n",
              "</div>"
            ],
            "text/plain": [
              "     mean radius  mean texture  ...  worst fractal dimension  label\n",
              "156    -0.320167      0.346815  ...                -1.085918    1.0\n",
              "260    -0.215082     -0.674768  ...                -0.424808    1.0\n",
              "537    -0.493416     -0.421117  ...                 1.543562    1.0\n",
              "21      1.693494      1.063551  ...                 0.595398    0.0\n",
              "189     0.080293      0.102473  ...                 0.224112    1.0\n",
              "..           ...           ...  ...                      ...    ...\n",
              "66     -0.189520      2.075826  ...                -0.739015    1.0\n",
              "36      0.949377      1.254371  ...                 0.501745    0.0\n",
              "267     0.037691     -0.260550  ...                -0.398208    1.0\n",
              "2      -0.439453     -0.207027  ...                -1.088135    1.0\n",
              "381    -0.271884     -0.248914  ...                -0.814381    1.0\n",
              "\n",
              "[569 rows x 31 columns]"
            ]
          },
          "metadata": {},
          "execution_count": 33
        }
      ]
    },
    {
      "cell_type": "code",
      "metadata": {
        "id": "08a268a1"
      },
      "source": [
        "# divide the dataset for training, validation and testing\n",
        "\n",
        "# fisrt 500 for training\n",
        "x_train = feature[:500]\n",
        "y_train = label[:500]\n",
        "\n",
        "# 35 for validating\n",
        "x_val = feature[500:535]\n",
        "y_val = label[500:535]\n",
        "\n",
        "# 34 for testing\n",
        "x_test = feature[535:]\n",
        "y_test = label[535:]\n",
        "\n",
        "# total 569"
      ],
      "id": "08a268a1",
      "execution_count": 34,
      "outputs": []
    },
    {
      "cell_type": "code",
      "metadata": {
        "id": "6d123018"
      },
      "source": [
        "# creating the neural network\n",
        "model = Sequential()\n",
        "\n",
        "model.add(Dense(32, activation = 'relu', input_dim=30))\n",
        "model.add(Dense(64, activation='relu'))\n",
        "model.add(Dense(128, activation='relu'))\n",
        "model.add(Dense(64, activation = 'relu'))\n",
        "model.add(Dense(32, activation='relu'))\n",
        "\n",
        "model.add(Dense(1,activation='sigmoid'))\n",
        "\n",
        "model.compile(loss='binary_crossentropy', optimizer='adam', metrics=['accuracy'])"
      ],
      "id": "6d123018",
      "execution_count": 35,
      "outputs": []
    },
    {
      "cell_type": "code",
      "metadata": {
        "colab": {
          "base_uri": "https://localhost:8080/"
        },
        "id": "22XTYMrFg4rl",
        "outputId": "d2705ab4-1b47-4a54-e4a1-1479bc735ae6"
      },
      "source": [
        "model.fit(x_train, y_train,batch_size=5, epochs=100, validation_data=(x_val, y_val))"
      ],
      "id": "22XTYMrFg4rl",
      "execution_count": 36,
      "outputs": [
        {
          "output_type": "stream",
          "name": "stdout",
          "text": [
            "Epoch 1/100\n",
            "100/100 [==============================] - 1s 4ms/step - loss: 0.2622 - accuracy: 0.9120 - val_loss: 0.0800 - val_accuracy: 0.9714\n",
            "Epoch 2/100\n",
            "100/100 [==============================] - 0s 2ms/step - loss: 0.0823 - accuracy: 0.9760 - val_loss: 0.0616 - val_accuracy: 0.9714\n",
            "Epoch 3/100\n",
            "100/100 [==============================] - 0s 2ms/step - loss: 0.0642 - accuracy: 0.9740 - val_loss: 0.0296 - val_accuracy: 0.9714\n",
            "Epoch 4/100\n",
            "100/100 [==============================] - 0s 2ms/step - loss: 0.0447 - accuracy: 0.9840 - val_loss: 0.0251 - val_accuracy: 1.0000\n",
            "Epoch 5/100\n",
            "100/100 [==============================] - 0s 2ms/step - loss: 0.0288 - accuracy: 0.9920 - val_loss: 0.0092 - val_accuracy: 1.0000\n",
            "Epoch 6/100\n",
            "100/100 [==============================] - 0s 2ms/step - loss: 0.0653 - accuracy: 0.9860 - val_loss: 0.0087 - val_accuracy: 1.0000\n",
            "Epoch 7/100\n",
            "100/100 [==============================] - 0s 2ms/step - loss: 0.0373 - accuracy: 0.9860 - val_loss: 0.0099 - val_accuracy: 1.0000\n",
            "Epoch 8/100\n",
            "100/100 [==============================] - 0s 2ms/step - loss: 0.0215 - accuracy: 0.9900 - val_loss: 0.0071 - val_accuracy: 1.0000\n",
            "Epoch 9/100\n",
            "100/100 [==============================] - 0s 2ms/step - loss: 0.0066 - accuracy: 0.9980 - val_loss: 0.0018 - val_accuracy: 1.0000\n",
            "Epoch 10/100\n",
            "100/100 [==============================] - 0s 2ms/step - loss: 0.0083 - accuracy: 0.9960 - val_loss: 0.0022 - val_accuracy: 1.0000\n",
            "Epoch 11/100\n",
            "100/100 [==============================] - 0s 2ms/step - loss: 0.0031 - accuracy: 1.0000 - val_loss: 0.0444 - val_accuracy: 0.9714\n",
            "Epoch 12/100\n",
            "100/100 [==============================] - 0s 2ms/step - loss: 0.0017 - accuracy: 1.0000 - val_loss: 0.0101 - val_accuracy: 1.0000\n",
            "Epoch 13/100\n",
            "100/100 [==============================] - 0s 2ms/step - loss: 4.6887e-04 - accuracy: 1.0000 - val_loss: 0.0101 - val_accuracy: 1.0000\n",
            "Epoch 14/100\n",
            "100/100 [==============================] - 0s 3ms/step - loss: 3.1464e-04 - accuracy: 1.0000 - val_loss: 0.0099 - val_accuracy: 1.0000\n",
            "Epoch 15/100\n",
            "100/100 [==============================] - 0s 2ms/step - loss: 2.2882e-04 - accuracy: 1.0000 - val_loss: 0.0085 - val_accuracy: 1.0000\n",
            "Epoch 16/100\n",
            "100/100 [==============================] - 0s 2ms/step - loss: 1.7126e-04 - accuracy: 1.0000 - val_loss: 0.0098 - val_accuracy: 1.0000\n",
            "Epoch 17/100\n",
            "100/100 [==============================] - 0s 2ms/step - loss: 1.3458e-04 - accuracy: 1.0000 - val_loss: 0.0090 - val_accuracy: 1.0000\n",
            "Epoch 18/100\n",
            "100/100 [==============================] - 0s 2ms/step - loss: 1.0687e-04 - accuracy: 1.0000 - val_loss: 0.0091 - val_accuracy: 1.0000\n",
            "Epoch 19/100\n",
            "100/100 [==============================] - 0s 2ms/step - loss: 8.7267e-05 - accuracy: 1.0000 - val_loss: 0.0094 - val_accuracy: 1.0000\n",
            "Epoch 20/100\n",
            "100/100 [==============================] - 0s 2ms/step - loss: 7.1972e-05 - accuracy: 1.0000 - val_loss: 0.0095 - val_accuracy: 1.0000\n",
            "Epoch 21/100\n",
            "100/100 [==============================] - 0s 2ms/step - loss: 5.9187e-05 - accuracy: 1.0000 - val_loss: 0.0093 - val_accuracy: 1.0000\n",
            "Epoch 22/100\n",
            "100/100 [==============================] - 0s 2ms/step - loss: 5.0033e-05 - accuracy: 1.0000 - val_loss: 0.0100 - val_accuracy: 1.0000\n",
            "Epoch 23/100\n",
            "100/100 [==============================] - 0s 2ms/step - loss: 4.1929e-05 - accuracy: 1.0000 - val_loss: 0.0090 - val_accuracy: 1.0000\n",
            "Epoch 24/100\n",
            "100/100 [==============================] - 0s 2ms/step - loss: 3.5458e-05 - accuracy: 1.0000 - val_loss: 0.0089 - val_accuracy: 1.0000\n",
            "Epoch 25/100\n",
            "100/100 [==============================] - 0s 2ms/step - loss: 3.0201e-05 - accuracy: 1.0000 - val_loss: 0.0085 - val_accuracy: 1.0000\n",
            "Epoch 26/100\n",
            "100/100 [==============================] - 0s 2ms/step - loss: 2.5866e-05 - accuracy: 1.0000 - val_loss: 0.0085 - val_accuracy: 1.0000\n",
            "Epoch 27/100\n",
            "100/100 [==============================] - 0s 2ms/step - loss: 2.2152e-05 - accuracy: 1.0000 - val_loss: 0.0090 - val_accuracy: 1.0000\n",
            "Epoch 28/100\n",
            "100/100 [==============================] - 0s 2ms/step - loss: 1.9158e-05 - accuracy: 1.0000 - val_loss: 0.0085 - val_accuracy: 1.0000\n",
            "Epoch 29/100\n",
            "100/100 [==============================] - 0s 2ms/step - loss: 1.6767e-05 - accuracy: 1.0000 - val_loss: 0.0088 - val_accuracy: 1.0000\n",
            "Epoch 30/100\n",
            "100/100 [==============================] - 0s 2ms/step - loss: 1.4710e-05 - accuracy: 1.0000 - val_loss: 0.0087 - val_accuracy: 1.0000\n",
            "Epoch 31/100\n",
            "100/100 [==============================] - 0s 2ms/step - loss: 1.2975e-05 - accuracy: 1.0000 - val_loss: 0.0085 - val_accuracy: 1.0000\n",
            "Epoch 32/100\n",
            "100/100 [==============================] - 0s 2ms/step - loss: 1.1364e-05 - accuracy: 1.0000 - val_loss: 0.0087 - val_accuracy: 1.0000\n",
            "Epoch 33/100\n",
            "100/100 [==============================] - 0s 2ms/step - loss: 1.0154e-05 - accuracy: 1.0000 - val_loss: 0.0089 - val_accuracy: 1.0000\n",
            "Epoch 34/100\n",
            "100/100 [==============================] - 0s 2ms/step - loss: 8.9889e-06 - accuracy: 1.0000 - val_loss: 0.0089 - val_accuracy: 1.0000\n",
            "Epoch 35/100\n",
            "100/100 [==============================] - 0s 2ms/step - loss: 8.0444e-06 - accuracy: 1.0000 - val_loss: 0.0090 - val_accuracy: 1.0000\n",
            "Epoch 36/100\n",
            "100/100 [==============================] - 0s 2ms/step - loss: 7.1865e-06 - accuracy: 1.0000 - val_loss: 0.0083 - val_accuracy: 1.0000\n",
            "Epoch 37/100\n",
            "100/100 [==============================] - 0s 2ms/step - loss: 6.4454e-06 - accuracy: 1.0000 - val_loss: 0.0093 - val_accuracy: 1.0000\n",
            "Epoch 38/100\n",
            "100/100 [==============================] - 0s 2ms/step - loss: 5.7605e-06 - accuracy: 1.0000 - val_loss: 0.0088 - val_accuracy: 1.0000\n",
            "Epoch 39/100\n",
            "100/100 [==============================] - 0s 2ms/step - loss: 5.1622e-06 - accuracy: 1.0000 - val_loss: 0.0090 - val_accuracy: 1.0000\n",
            "Epoch 40/100\n",
            "100/100 [==============================] - 0s 2ms/step - loss: 4.7283e-06 - accuracy: 1.0000 - val_loss: 0.0088 - val_accuracy: 1.0000\n",
            "Epoch 41/100\n",
            "100/100 [==============================] - 0s 2ms/step - loss: 4.2317e-06 - accuracy: 1.0000 - val_loss: 0.0093 - val_accuracy: 1.0000\n",
            "Epoch 42/100\n",
            "100/100 [==============================] - 0s 2ms/step - loss: 3.8275e-06 - accuracy: 1.0000 - val_loss: 0.0088 - val_accuracy: 1.0000\n",
            "Epoch 43/100\n",
            "100/100 [==============================] - 0s 2ms/step - loss: 3.4883e-06 - accuracy: 1.0000 - val_loss: 0.0088 - val_accuracy: 1.0000\n",
            "Epoch 44/100\n",
            "100/100 [==============================] - 0s 3ms/step - loss: 3.1840e-06 - accuracy: 1.0000 - val_loss: 0.0086 - val_accuracy: 1.0000\n",
            "Epoch 45/100\n",
            "100/100 [==============================] - 0s 2ms/step - loss: 2.8712e-06 - accuracy: 1.0000 - val_loss: 0.0085 - val_accuracy: 1.0000\n",
            "Epoch 46/100\n",
            "100/100 [==============================] - 0s 2ms/step - loss: 2.6326e-06 - accuracy: 1.0000 - val_loss: 0.0082 - val_accuracy: 1.0000\n",
            "Epoch 47/100\n",
            "100/100 [==============================] - 0s 2ms/step - loss: 2.3972e-06 - accuracy: 1.0000 - val_loss: 0.0081 - val_accuracy: 1.0000\n",
            "Epoch 48/100\n",
            "100/100 [==============================] - 0s 3ms/step - loss: 2.1999e-06 - accuracy: 1.0000 - val_loss: 0.0083 - val_accuracy: 1.0000\n",
            "Epoch 49/100\n",
            "100/100 [==============================] - 0s 2ms/step - loss: 2.0080e-06 - accuracy: 1.0000 - val_loss: 0.0085 - val_accuracy: 1.0000\n",
            "Epoch 50/100\n",
            "100/100 [==============================] - 0s 2ms/step - loss: 1.8534e-06 - accuracy: 1.0000 - val_loss: 0.0080 - val_accuracy: 1.0000\n",
            "Epoch 51/100\n",
            "100/100 [==============================] - 0s 2ms/step - loss: 1.6802e-06 - accuracy: 1.0000 - val_loss: 0.0085 - val_accuracy: 1.0000\n",
            "Epoch 52/100\n",
            "100/100 [==============================] - 0s 3ms/step - loss: 1.5453e-06 - accuracy: 1.0000 - val_loss: 0.0083 - val_accuracy: 1.0000\n",
            "Epoch 53/100\n",
            "100/100 [==============================] - 0s 2ms/step - loss: 1.4254e-06 - accuracy: 1.0000 - val_loss: 0.0083 - val_accuracy: 1.0000\n",
            "Epoch 54/100\n",
            "100/100 [==============================] - 0s 2ms/step - loss: 1.3120e-06 - accuracy: 1.0000 - val_loss: 0.0082 - val_accuracy: 1.0000\n",
            "Epoch 55/100\n",
            "100/100 [==============================] - 0s 2ms/step - loss: 1.2086e-06 - accuracy: 1.0000 - val_loss: 0.0083 - val_accuracy: 1.0000\n",
            "Epoch 56/100\n",
            "100/100 [==============================] - 0s 2ms/step - loss: 1.1171e-06 - accuracy: 1.0000 - val_loss: 0.0081 - val_accuracy: 1.0000\n",
            "Epoch 57/100\n",
            "100/100 [==============================] - 0s 2ms/step - loss: 1.0256e-06 - accuracy: 1.0000 - val_loss: 0.0081 - val_accuracy: 1.0000\n",
            "Epoch 58/100\n",
            "100/100 [==============================] - 0s 2ms/step - loss: 9.5211e-07 - accuracy: 1.0000 - val_loss: 0.0080 - val_accuracy: 1.0000\n",
            "Epoch 59/100\n",
            "100/100 [==============================] - 0s 2ms/step - loss: 8.8005e-07 - accuracy: 1.0000 - val_loss: 0.0083 - val_accuracy: 1.0000\n",
            "Epoch 60/100\n",
            "100/100 [==============================] - 0s 2ms/step - loss: 8.1543e-07 - accuracy: 1.0000 - val_loss: 0.0077 - val_accuracy: 1.0000\n",
            "Epoch 61/100\n",
            "100/100 [==============================] - 0s 2ms/step - loss: 7.5554e-07 - accuracy: 1.0000 - val_loss: 0.0081 - val_accuracy: 1.0000\n",
            "Epoch 62/100\n",
            "100/100 [==============================] - 0s 2ms/step - loss: 7.0252e-07 - accuracy: 1.0000 - val_loss: 0.0083 - val_accuracy: 1.0000\n",
            "Epoch 63/100\n",
            "100/100 [==============================] - 0s 2ms/step - loss: 6.5062e-07 - accuracy: 1.0000 - val_loss: 0.0080 - val_accuracy: 1.0000\n",
            "Epoch 64/100\n",
            "100/100 [==============================] - 0s 2ms/step - loss: 6.0054e-07 - accuracy: 1.0000 - val_loss: 0.0081 - val_accuracy: 1.0000\n",
            "Epoch 65/100\n",
            "100/100 [==============================] - 0s 2ms/step - loss: 5.5982e-07 - accuracy: 1.0000 - val_loss: 0.0081 - val_accuracy: 1.0000\n",
            "Epoch 66/100\n",
            "100/100 [==============================] - 0s 2ms/step - loss: 5.2321e-07 - accuracy: 1.0000 - val_loss: 0.0080 - val_accuracy: 1.0000\n",
            "Epoch 67/100\n",
            "100/100 [==============================] - 0s 2ms/step - loss: 4.8403e-07 - accuracy: 1.0000 - val_loss: 0.0080 - val_accuracy: 1.0000\n",
            "Epoch 68/100\n",
            "100/100 [==============================] - 0s 2ms/step - loss: 4.5063e-07 - accuracy: 1.0000 - val_loss: 0.0079 - val_accuracy: 1.0000\n",
            "Epoch 69/100\n",
            "100/100 [==============================] - 0s 2ms/step - loss: 4.1945e-07 - accuracy: 1.0000 - val_loss: 0.0080 - val_accuracy: 1.0000\n",
            "Epoch 70/100\n",
            "100/100 [==============================] - 0s 2ms/step - loss: 3.9273e-07 - accuracy: 1.0000 - val_loss: 0.0079 - val_accuracy: 1.0000\n",
            "Epoch 71/100\n",
            "100/100 [==============================] - 0s 2ms/step - loss: 3.6384e-07 - accuracy: 1.0000 - val_loss: 0.0079 - val_accuracy: 1.0000\n",
            "Epoch 72/100\n",
            "100/100 [==============================] - 0s 2ms/step - loss: 3.3894e-07 - accuracy: 1.0000 - val_loss: 0.0079 - val_accuracy: 1.0000\n",
            "Epoch 73/100\n",
            "100/100 [==============================] - 0s 2ms/step - loss: 3.1627e-07 - accuracy: 1.0000 - val_loss: 0.0078 - val_accuracy: 1.0000\n",
            "Epoch 74/100\n",
            "100/100 [==============================] - 0s 2ms/step - loss: 2.9506e-07 - accuracy: 1.0000 - val_loss: 0.0078 - val_accuracy: 1.0000\n",
            "Epoch 75/100\n",
            "100/100 [==============================] - 0s 2ms/step - loss: 2.7657e-07 - accuracy: 1.0000 - val_loss: 0.0078 - val_accuracy: 1.0000\n",
            "Epoch 76/100\n",
            "100/100 [==============================] - 0s 2ms/step - loss: 2.5849e-07 - accuracy: 1.0000 - val_loss: 0.0077 - val_accuracy: 1.0000\n",
            "Epoch 77/100\n",
            "100/100 [==============================] - 0s 2ms/step - loss: 2.4125e-07 - accuracy: 1.0000 - val_loss: 0.0078 - val_accuracy: 1.0000\n",
            "Epoch 78/100\n",
            "100/100 [==============================] - 0s 2ms/step - loss: 2.2471e-07 - accuracy: 1.0000 - val_loss: 0.0077 - val_accuracy: 1.0000\n",
            "Epoch 79/100\n",
            "100/100 [==============================] - 0s 3ms/step - loss: 2.1121e-07 - accuracy: 1.0000 - val_loss: 0.0076 - val_accuracy: 1.0000\n",
            "Epoch 80/100\n",
            "100/100 [==============================] - 0s 2ms/step - loss: 1.9720e-07 - accuracy: 1.0000 - val_loss: 0.0074 - val_accuracy: 1.0000\n",
            "Epoch 81/100\n",
            "100/100 [==============================] - 0s 2ms/step - loss: 1.8450e-07 - accuracy: 1.0000 - val_loss: 0.0075 - val_accuracy: 1.0000\n",
            "Epoch 82/100\n",
            "100/100 [==============================] - 0s 2ms/step - loss: 1.7270e-07 - accuracy: 1.0000 - val_loss: 0.0076 - val_accuracy: 1.0000\n",
            "Epoch 83/100\n",
            "100/100 [==============================] - 0s 2ms/step - loss: 1.6130e-07 - accuracy: 1.0000 - val_loss: 0.0073 - val_accuracy: 1.0000\n",
            "Epoch 84/100\n",
            "100/100 [==============================] - 0s 2ms/step - loss: 1.5076e-07 - accuracy: 1.0000 - val_loss: 0.0077 - val_accuracy: 1.0000\n",
            "Epoch 85/100\n",
            "100/100 [==============================] - 0s 2ms/step - loss: 1.4173e-07 - accuracy: 1.0000 - val_loss: 0.0077 - val_accuracy: 1.0000\n",
            "Epoch 86/100\n",
            "100/100 [==============================] - 0s 2ms/step - loss: 1.3422e-07 - accuracy: 1.0000 - val_loss: 0.0076 - val_accuracy: 1.0000\n",
            "Epoch 87/100\n",
            "100/100 [==============================] - 0s 2ms/step - loss: 1.2437e-07 - accuracy: 1.0000 - val_loss: 0.0076 - val_accuracy: 1.0000\n",
            "Epoch 88/100\n",
            "100/100 [==============================] - 0s 3ms/step - loss: 1.1722e-07 - accuracy: 1.0000 - val_loss: 0.0073 - val_accuracy: 1.0000\n",
            "Epoch 89/100\n",
            "100/100 [==============================] - 0s 2ms/step - loss: 1.0986e-07 - accuracy: 1.0000 - val_loss: 0.0077 - val_accuracy: 1.0000\n",
            "Epoch 90/100\n",
            "100/100 [==============================] - 0s 2ms/step - loss: 1.0228e-07 - accuracy: 1.0000 - val_loss: 0.0077 - val_accuracy: 1.0000\n",
            "Epoch 91/100\n",
            "100/100 [==============================] - 0s 2ms/step - loss: 9.6805e-08 - accuracy: 1.0000 - val_loss: 0.0076 - val_accuracy: 1.0000\n",
            "Epoch 92/100\n",
            "100/100 [==============================] - 0s 3ms/step - loss: 8.9621e-08 - accuracy: 1.0000 - val_loss: 0.0077 - val_accuracy: 1.0000\n",
            "Epoch 93/100\n",
            "100/100 [==============================] - 0s 2ms/step - loss: 8.4614e-08 - accuracy: 1.0000 - val_loss: 0.0076 - val_accuracy: 1.0000\n",
            "Epoch 94/100\n",
            "100/100 [==============================] - 0s 2ms/step - loss: 7.9147e-08 - accuracy: 1.0000 - val_loss: 0.0076 - val_accuracy: 1.0000\n",
            "Epoch 95/100\n",
            "100/100 [==============================] - 0s 2ms/step - loss: 7.5063e-08 - accuracy: 1.0000 - val_loss: 0.0076 - val_accuracy: 1.0000\n",
            "Epoch 96/100\n",
            "100/100 [==============================] - 0s 3ms/step - loss: 6.9988e-08 - accuracy: 1.0000 - val_loss: 0.0075 - val_accuracy: 1.0000\n",
            "Epoch 97/100\n",
            "100/100 [==============================] - 0s 2ms/step - loss: 6.5966e-08 - accuracy: 1.0000 - val_loss: 0.0078 - val_accuracy: 1.0000\n",
            "Epoch 98/100\n",
            "100/100 [==============================] - 0s 2ms/step - loss: 6.1894e-08 - accuracy: 1.0000 - val_loss: 0.0074 - val_accuracy: 1.0000\n",
            "Epoch 99/100\n",
            "100/100 [==============================] - 0s 2ms/step - loss: 5.8250e-08 - accuracy: 1.0000 - val_loss: 0.0075 - val_accuracy: 1.0000\n",
            "Epoch 100/100\n",
            "100/100 [==============================] - 0s 2ms/step - loss: 5.4657e-08 - accuracy: 1.0000 - val_loss: 0.0077 - val_accuracy: 1.0000\n"
          ]
        },
        {
          "output_type": "execute_result",
          "data": {
            "text/plain": [
              "<keras.callbacks.History at 0x7f5a688c5890>"
            ]
          },
          "metadata": {},
          "execution_count": 36
        }
      ]
    },
    {
      "cell_type": "code",
      "metadata": {
        "colab": {
          "base_uri": "https://localhost:8080/"
        },
        "id": "TOuXGwMUnibt",
        "outputId": "e52029ff-362d-4822-ed73-3a66476d6032"
      },
      "source": [
        "model.evaluate(x_test, y_test)"
      ],
      "id": "TOuXGwMUnibt",
      "execution_count": 37,
      "outputs": [
        {
          "output_type": "stream",
          "name": "stdout",
          "text": [
            "2/2 [==============================] - 0s 9ms/step - loss: 3.2548e-05 - accuracy: 1.0000\n"
          ]
        },
        {
          "output_type": "execute_result",
          "data": {
            "text/plain": [
              "[3.254772673244588e-05, 1.0]"
            ]
          },
          "metadata": {},
          "execution_count": 37
        }
      ]
    },
    {
      "cell_type": "code",
      "metadata": {
        "colab": {
          "base_uri": "https://localhost:8080/"
        },
        "id": "SsIsSoVOo3Ca",
        "outputId": "3272646e-bc89-4bf6-edc1-61d844bf36d3"
      },
      "source": [
        "model.evaluate(x_val, y_val)"
      ],
      "id": "SsIsSoVOo3Ca",
      "execution_count": 38,
      "outputs": [
        {
          "output_type": "stream",
          "name": "stdout",
          "text": [
            "2/2 [==============================] - 0s 7ms/step - loss: 0.0077 - accuracy: 1.0000\n"
          ]
        },
        {
          "output_type": "execute_result",
          "data": {
            "text/plain": [
              "[0.007721239235252142, 1.0]"
            ]
          },
          "metadata": {},
          "execution_count": 38
        }
      ]
    },
    {
      "cell_type": "code",
      "metadata": {
        "colab": {
          "base_uri": "https://localhost:8080/"
        },
        "id": "2d8yFquo2Cft",
        "outputId": "7672ff76-5eb3-4d55-d5a5-cfee13de2390"
      },
      "source": [
        "for i in range(34):\n",
        "  sample = x_test[i]\n",
        "  sample = np.reshape(sample, (1,30))\n",
        "\n",
        "  if (round(model.predict(sample)[0][0]) != 0):\n",
        "    print(\"-Benign\")\n",
        "  else:\n",
        "    print(\"-Malignant\")\n",
        "\n",
        "  if (y_test[i] == 1):\n",
        "    print(\"*Banign\")\n",
        "  else:\n",
        "    print(\"*Malignant\")\n",
        "  print(\"-----------\")"
      ],
      "id": "2d8yFquo2Cft",
      "execution_count": 39,
      "outputs": [
        {
          "output_type": "stream",
          "name": "stdout",
          "text": [
            "-Malignant\n",
            "*Malignant\n",
            "-----------\n",
            "-Benign\n",
            "*Banign\n",
            "-----------\n",
            "-Benign\n",
            "*Banign\n",
            "-----------\n",
            "-Malignant\n",
            "*Malignant\n",
            "-----------\n",
            "-Benign\n",
            "*Banign\n",
            "-----------\n",
            "-Malignant\n",
            "*Malignant\n",
            "-----------\n",
            "-Benign\n",
            "*Banign\n",
            "-----------\n",
            "-Benign\n",
            "*Banign\n",
            "-----------\n",
            "-Benign\n",
            "*Banign\n",
            "-----------\n",
            "-Benign\n",
            "*Banign\n",
            "-----------\n",
            "-Malignant\n",
            "*Malignant\n",
            "-----------\n",
            "-Benign\n",
            "*Banign\n",
            "-----------\n",
            "-Benign\n",
            "*Banign\n",
            "-----------\n",
            "-Benign\n",
            "*Banign\n",
            "-----------\n",
            "-Malignant\n",
            "*Malignant\n",
            "-----------\n",
            "-Malignant\n",
            "*Malignant\n",
            "-----------\n",
            "-Malignant\n",
            "*Malignant\n",
            "-----------\n",
            "-Malignant\n",
            "*Malignant\n",
            "-----------\n",
            "-Malignant\n",
            "*Malignant\n",
            "-----------\n",
            "-Benign\n",
            "*Banign\n",
            "-----------\n",
            "-Benign\n",
            "*Banign\n",
            "-----------\n",
            "-Benign\n",
            "*Banign\n",
            "-----------\n",
            "-Malignant\n",
            "*Malignant\n",
            "-----------\n",
            "-Malignant\n",
            "*Malignant\n",
            "-----------\n",
            "-Benign\n",
            "*Banign\n",
            "-----------\n",
            "-Malignant\n",
            "*Malignant\n",
            "-----------\n",
            "-Malignant\n",
            "*Malignant\n",
            "-----------\n",
            "-Benign\n",
            "*Banign\n",
            "-----------\n",
            "-Malignant\n",
            "*Malignant\n",
            "-----------\n",
            "-Benign\n",
            "*Banign\n",
            "-----------\n",
            "-Malignant\n",
            "*Malignant\n",
            "-----------\n",
            "-Benign\n",
            "*Banign\n",
            "-----------\n",
            "-Benign\n",
            "*Banign\n",
            "-----------\n",
            "-Benign\n",
            "*Banign\n",
            "-----------\n"
          ]
        }
      ]
    },
    {
      "cell_type": "code",
      "metadata": {
        "id": "DnCPgTj52WMe"
      },
      "source": [
        ""
      ],
      "id": "DnCPgTj52WMe",
      "execution_count": null,
      "outputs": []
    }
  ]
}